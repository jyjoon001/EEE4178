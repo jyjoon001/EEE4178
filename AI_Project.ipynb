{
  "nbformat": 4,
  "nbformat_minor": 0,
  "metadata": {
    "colab": {
      "name": "AI_Project.ipynb",
      "provenance": [],
      "collapsed_sections": [],
      "authorship_tag": "ABX9TyOVKxQ1VpVC7j/9kjMyXuW4",
      "include_colab_link": true
    },
    "kernelspec": {
      "name": "python3",
      "display_name": "Python 3"
    },
    "accelerator": "GPU"
  },
  "cells": [
    {
      "cell_type": "markdown",
      "metadata": {
        "id": "view-in-github",
        "colab_type": "text"
      },
      "source": [
        "<a href=\"https://colab.research.google.com/github/jyjoon001/EEE4178/blob/main/AI_Project.ipynb\" target=\"_parent\"><img src=\"https://colab.research.google.com/assets/colab-badge.svg\" alt=\"Open In Colab\"/></a>"
      ]
    },
    {
      "cell_type": "code",
      "metadata": {
        "id": "OPSsJUo8OK2e"
      },
      "source": [
        "import numpy as np\n",
        "import torch\n",
        "import torch.nn as nn\n",
        "import torch.nn.functional as F\n",
        "import torchvision \n",
        "import torchvision.transforms as transforms \n",
        "import matplotlib\n",
        "import matplotlib.pyplot as plt\n",
        "from matplotlib.pyplot import imshow\n",
        "import time\n",
        "device = torch.device('cuda' if torch.cuda.is_available() else 'cpu')"
      ],
      "execution_count": null,
      "outputs": []
    },
    {
      "cell_type": "code",
      "metadata": {
        "id": "-Altu-2Lbxh9",
        "colab": {
          "base_uri": "https://localhost:8080/"
        },
        "outputId": "e2c63cd3-80b2-4d69-b7bd-ecdfb91c48ad"
      },
      "source": [
        "!nvidia-smi"
      ],
      "execution_count": null,
      "outputs": [
        {
          "output_type": "stream",
          "text": [
            "Thu Dec 10 16:15:11 2020       \n",
            "+-----------------------------------------------------------------------------+\n",
            "| NVIDIA-SMI 455.45.01    Driver Version: 418.67       CUDA Version: 10.1     |\n",
            "|-------------------------------+----------------------+----------------------+\n",
            "| GPU  Name        Persistence-M| Bus-Id        Disp.A | Volatile Uncorr. ECC |\n",
            "| Fan  Temp  Perf  Pwr:Usage/Cap|         Memory-Usage | GPU-Util  Compute M. |\n",
            "|                               |                      |               MIG M. |\n",
            "|===============================+======================+======================|\n",
            "|   0  Tesla P100-PCIE...  Off  | 00000000:00:04.0 Off |                    0 |\n",
            "| N/A   42C    P0    28W / 250W |     10MiB / 16280MiB |      0%      Default |\n",
            "|                               |                      |                 ERR! |\n",
            "+-------------------------------+----------------------+----------------------+\n",
            "                                                                               \n",
            "+-----------------------------------------------------------------------------+\n",
            "| Processes:                                                                  |\n",
            "|  GPU   GI   CI        PID   Type   Process name                  GPU Memory |\n",
            "|        ID   ID                                                   Usage      |\n",
            "|=============================================================================|\n",
            "|  No running processes found                                                 |\n",
            "+-----------------------------------------------------------------------------+\n"
          ],
          "name": "stdout"
        }
      ]
    },
    {
      "cell_type": "code",
      "metadata": {
        "id": "8ZVj7fn5ON_u"
      },
      "source": [
        "#HyperParameters\n",
        "num_class = 2\n",
        "in_channel = 1\n",
        "batch_size = 128\n",
        "max_pool_kernel = 2\n",
        "learning_rate = 0.00017\n",
        "num_epochs = 5"
      ],
      "execution_count": null,
      "outputs": []
    },
    {
      "cell_type": "code",
      "metadata": {
        "id": "p3xj4SsGFPzY"
      },
      "source": [
        "train_data = torchvision.datasets.EMNIST(root='./datasets',\n",
        "                                        split='bymerge',\n",
        "                                        train=True,\n",
        "                                        transform=transforms.ToTensor(),\n",
        "                                        download=True)\n",
        "test_data = torchvision.datasets.EMNIST(root='./datasets',\n",
        "                                        split='bymerge',\n",
        "                                        train=False,\n",
        "                                        transform=transforms.ToTensor(),\n",
        "                                        download=True)\n",
        "train_loader = torch.utils.data.DataLoader(dataset=train_data,\n",
        "                                           batch_size=batch_size,\n",
        "                                           shuffle=True)\n",
        "test_loader = torch.utils.data.DataLoader(dataset=test_data,\n",
        "                                          batch_size=batch_size,\n",
        "                                          shuffle=False)"
      ],
      "execution_count": null,
      "outputs": []
    },
    {
      "cell_type": "code",
      "metadata": {
        "colab": {
          "base_uri": "https://localhost:8080/"
        },
        "id": "jERQ1of6FScY",
        "outputId": "898db73c-ec40-4051-8a36-8a77333ef4fb"
      },
      "source": [
        "train_data.targets[train_data.targets < 11] = 0\n",
        "train_data.targets[train_data.targets > 10] = 1\n",
        "print(train_data.targets.unique())\n",
        "\n",
        "test_data.targets[test_data.targets < 11] = 0\n",
        "test_data.targets[test_data.targets > 10] = 1\n",
        "print(test_data.targets.unique())"
      ],
      "execution_count": null,
      "outputs": [
        {
          "output_type": "stream",
          "text": [
            "tensor([0, 1])\n",
            "tensor([0, 1])\n"
          ],
          "name": "stdout"
        }
      ]
    },
    {
      "cell_type": "code",
      "metadata": {
        "id": "Co6_48vkFI5J"
      },
      "source": [
        "# Define Model\n",
        "class ConvNet(nn.Module):\n",
        "  def __init__(self, num_class):\n",
        "    super(ConvNet, self).__init__()\n",
        "    self.layer1a = nn.Sequential(\n",
        "        nn.Conv2d(1, 6, 3, stride=1, padding=1),\n",
        "        nn.BatchNorm2d(6),\n",
        "        nn.ReLU(),\n",
        "    )\n",
        "    self.layer1b = nn.Sequential(\n",
        "        nn.Conv2d(6, 10, 3, stride=1, padding=1),\n",
        "        nn.BatchNorm2d(10),\n",
        "        nn.ReLU(),\n",
        "        nn.MaxPool2d(max_pool_kernel)\n",
        "    )\n",
        "    self.layer2a = nn.Sequential(\n",
        "        nn.Conv2d(10, 16, 5, stride=1, padding=2),\n",
        "        nn.BatchNorm2d(16),\n",
        "        nn.ReLU()\n",
        "    )\n",
        "    self.layer2b = nn.Sequential(\n",
        "        nn.Conv2d(16, 32, 5, stride=1, padding=2),\n",
        "        nn.BatchNorm2d(32),\n",
        "        nn.ReLU()\n",
        "    )\n",
        "    self.layer3a = nn.Sequential(\n",
        "        nn.Conv2d(32, 64, 7, stride=1, padding=3),\n",
        "        nn.BatchNorm2d(64),\n",
        "        nn.ReLU()\n",
        "    )\n",
        "    self.layer3b = nn.Sequential(\n",
        "        nn.Conv2d(64, 128, 7, stride=1, padding=3),\n",
        "        nn.BatchNorm2d(128),\n",
        "        nn.ReLU(),\n",
        "        nn.AdaptiveAvgPool2d(6),\n",
        "        nn.Flatten()\n",
        "    )\n",
        "    self.fc0 = nn.Sequential(\n",
        "        nn.Linear(6*6*128, 360),\n",
        "        nn.BatchNorm1d(360),\n",
        "        nn.ReLU()\n",
        "    )\n",
        "    self.fc1 = nn.Sequential(\n",
        "        nn.Linear(360, 120),\n",
        "        nn.BatchNorm1d(120),\n",
        "        nn.ReLU()\n",
        "    )\n",
        "    self.fc2 = nn.Sequential(\n",
        "        nn.Linear(120, 84),\n",
        "        nn.BatchNorm1d(84),\n",
        "        nn.ReLU()\n",
        "    )\n",
        "    self.fc3 = nn.Sequential(\n",
        "        nn.Linear(84, num_class),\n",
        "        nn.BatchNorm1d(num_class)\n",
        "    )\n",
        "\n",
        "  def forward(self, x):\n",
        "    x = self.layer1a(x)\n",
        "    x = self.layer1b(x)\n",
        "    x = self.layer2a(x)\n",
        "    x = self.layer2b(x)\n",
        "    x = self.layer3a(x)   \n",
        "    x = self.layer3b(x)   \n",
        "    x = x.reshape(x.size(0),-1)\n",
        "    x = self.fc0(x)\n",
        "    x = self.fc1(x)\n",
        "    x = self.fc2(x)\n",
        "    x = F.log_softmax(self.fc3(x))\n",
        "    return x\n",
        "\n",
        "model = ConvNet(num_class).to(device)"
      ],
      "execution_count": null,
      "outputs": []
    },
    {
      "cell_type": "code",
      "metadata": {
        "colab": {
          "base_uri": "https://localhost:8080/"
        },
        "id": "5TtZzuvma8Q2",
        "outputId": "7a502351-e722-4c27-e743-a7ec93bbc80d"
      },
      "source": [
        "model"
      ],
      "execution_count": null,
      "outputs": [
        {
          "output_type": "execute_result",
          "data": {
            "text/plain": [
              "ConvNet(\n",
              "  (layer1a): Sequential(\n",
              "    (0): Conv2d(1, 6, kernel_size=(3, 3), stride=(1, 1), padding=(1, 1))\n",
              "    (1): BatchNorm2d(6, eps=1e-05, momentum=0.1, affine=True, track_running_stats=True)\n",
              "    (2): ReLU()\n",
              "  )\n",
              "  (layer1b): Sequential(\n",
              "    (0): Conv2d(6, 10, kernel_size=(3, 3), stride=(1, 1), padding=(1, 1))\n",
              "    (1): BatchNorm2d(10, eps=1e-05, momentum=0.1, affine=True, track_running_stats=True)\n",
              "    (2): ReLU()\n",
              "    (3): MaxPool2d(kernel_size=2, stride=2, padding=0, dilation=1, ceil_mode=False)\n",
              "  )\n",
              "  (layer2a): Sequential(\n",
              "    (0): Conv2d(10, 16, kernel_size=(5, 5), stride=(1, 1), padding=(2, 2))\n",
              "    (1): BatchNorm2d(16, eps=1e-05, momentum=0.1, affine=True, track_running_stats=True)\n",
              "    (2): ReLU()\n",
              "  )\n",
              "  (layer2b): Sequential(\n",
              "    (0): Conv2d(16, 32, kernel_size=(5, 5), stride=(1, 1), padding=(2, 2))\n",
              "    (1): BatchNorm2d(32, eps=1e-05, momentum=0.1, affine=True, track_running_stats=True)\n",
              "    (2): ReLU()\n",
              "  )\n",
              "  (layer3a): Sequential(\n",
              "    (0): Conv2d(32, 64, kernel_size=(7, 7), stride=(1, 1), padding=(3, 3))\n",
              "    (1): BatchNorm2d(64, eps=1e-05, momentum=0.1, affine=True, track_running_stats=True)\n",
              "    (2): ReLU()\n",
              "  )\n",
              "  (layer3b): Sequential(\n",
              "    (0): Conv2d(64, 128, kernel_size=(7, 7), stride=(1, 1), padding=(3, 3))\n",
              "    (1): BatchNorm2d(128, eps=1e-05, momentum=0.1, affine=True, track_running_stats=True)\n",
              "    (2): ReLU()\n",
              "    (3): AdaptiveAvgPool2d(output_size=6)\n",
              "    (4): Flatten(start_dim=1, end_dim=-1)\n",
              "  )\n",
              "  (fc0): Sequential(\n",
              "    (0): Linear(in_features=4608, out_features=360, bias=True)\n",
              "    (1): BatchNorm1d(360, eps=1e-05, momentum=0.1, affine=True, track_running_stats=True)\n",
              "    (2): ReLU()\n",
              "  )\n",
              "  (fc1): Sequential(\n",
              "    (0): Linear(in_features=360, out_features=120, bias=True)\n",
              "    (1): BatchNorm1d(120, eps=1e-05, momentum=0.1, affine=True, track_running_stats=True)\n",
              "    (2): ReLU()\n",
              "  )\n",
              "  (fc2): Sequential(\n",
              "    (0): Linear(in_features=120, out_features=84, bias=True)\n",
              "    (1): BatchNorm1d(84, eps=1e-05, momentum=0.1, affine=True, track_running_stats=True)\n",
              "    (2): ReLU()\n",
              "  )\n",
              "  (fc3): Sequential(\n",
              "    (0): Linear(in_features=84, out_features=2, bias=True)\n",
              "    (1): BatchNorm1d(2, eps=1e-05, momentum=0.1, affine=True, track_running_stats=True)\n",
              "  )\n",
              ")"
            ]
          },
          "metadata": {
            "tags": []
          },
          "execution_count": 16
        }
      ]
    },
    {
      "cell_type": "code",
      "metadata": {
        "id": "rh0uTd4vFXFx"
      },
      "source": [
        "criterion = nn.CrossEntropyLoss()\n",
        "optimizer = torch.optim.Adam(model.parameters(), lr=learning_rate)"
      ],
      "execution_count": null,
      "outputs": []
    },
    {
      "cell_type": "code",
      "metadata": {
        "colab": {
          "base_uri": "https://localhost:8080/"
        },
        "id": "TclqpiAUFY_R",
        "outputId": "a88cfb66-665c-49b5-cc84-9fa822f7d80e"
      },
      "source": [
        "start = time.time()\n",
        "best_epoch = 0\n",
        "best_loss = float('inf')\n",
        "total_step = len(train_loader)\n",
        "loss_list = []\n",
        "\n",
        "for epoch in range(num_epochs):\n",
        "  for i, (image, label) in enumerate(train_loader):\n",
        "    image = image.to(device)\n",
        "    label = label.to(device)\n",
        "\n",
        "    # Forward\n",
        "    output = model(image)\n",
        "    loss = criterion(output, label)\n",
        "\n",
        "    # Backward and optimize\n",
        "    optimizer.zero_grad()\n",
        "    loss.backward()\n",
        "    optimizer.step()\n",
        "\n",
        "    loss_list.append(loss.item())\n",
        "\n",
        "    if (i+1) % 1000 == 0:\n",
        "      print(\"Epoch [{}/{}], Step[{}/{}], Loss:{:.4f}\".format(epoch+1, num_epochs, i+1, total_step, loss.item()))\n",
        "end = time.time()\n",
        "print(\"Train takes {:.2f}minutes\".format((end-start)/60))\n",
        "torch.save(model.state_dict(),'20161482_model1.pth')"
      ],
      "execution_count": null,
      "outputs": [
        {
          "output_type": "stream",
          "text": [
            "/usr/local/lib/python3.6/dist-packages/ipykernel_launcher.py:69: UserWarning: Implicit dimension choice for log_softmax has been deprecated. Change the call to include dim=X as an argument.\n"
          ],
          "name": "stderr"
        },
        {
          "output_type": "stream",
          "text": [
            "Epoch [1/5], Step[1000/5453], Loss:0.2615\n",
            "Epoch [1/5], Step[2000/5453], Loss:0.2569\n",
            "Epoch [1/5], Step[3000/5453], Loss:0.1999\n",
            "Epoch [1/5], Step[4000/5453], Loss:0.1459\n",
            "Epoch [1/5], Step[5000/5453], Loss:0.2323\n",
            "Epoch [2/5], Step[1000/5453], Loss:0.1936\n",
            "Epoch [2/5], Step[2000/5453], Loss:0.1588\n",
            "Epoch [2/5], Step[3000/5453], Loss:0.1434\n",
            "Epoch [2/5], Step[4000/5453], Loss:0.1182\n",
            "Epoch [2/5], Step[5000/5453], Loss:0.2159\n",
            "Epoch [3/5], Step[1000/5453], Loss:0.1571\n",
            "Epoch [3/5], Step[2000/5453], Loss:0.1416\n",
            "Epoch [3/5], Step[3000/5453], Loss:0.1392\n",
            "Epoch [3/5], Step[4000/5453], Loss:0.1951\n",
            "Epoch [3/5], Step[5000/5453], Loss:0.1312\n",
            "Epoch [4/5], Step[1000/5453], Loss:0.1606\n",
            "Epoch [4/5], Step[2000/5453], Loss:0.2415\n",
            "Epoch [4/5], Step[3000/5453], Loss:0.1806\n",
            "Epoch [4/5], Step[4000/5453], Loss:0.1556\n",
            "Epoch [4/5], Step[5000/5453], Loss:0.2217\n",
            "Epoch [5/5], Step[1000/5453], Loss:0.1793\n",
            "Epoch [5/5], Step[2000/5453], Loss:0.1529\n",
            "Epoch [5/5], Step[3000/5453], Loss:0.2020\n",
            "Epoch [5/5], Step[4000/5453], Loss:0.1029\n",
            "Epoch [5/5], Step[5000/5453], Loss:0.1866\n",
            "Train takes 14.88minutes\n"
          ],
          "name": "stdout"
        }
      ]
    },
    {
      "cell_type": "code",
      "metadata": {
        "id": "vHMvC4-7bfio",
        "colab": {
          "base_uri": "https://localhost:8080/"
        },
        "outputId": "05b43c3c-ba0d-473c-d02d-112ed8b4dca1"
      },
      "source": [
        "plt.plot(loss_list)\n",
        "plt.title(\"EMNIST with CNN\")\n",
        "plt.show()"
      ],
      "execution_count": null,
      "outputs": [
        {
          "output_type": "display_data",
          "data": {
            "image/png": "[encoded data removed]",
            "text/plain": [
              "<Figure size 432x288 with 1 Axes>"
            ]
          },
          "metadata": {
            "tags": [],
            "needs_background": "light"
          }
        }
      ]
    },
    {
      "cell_type": "code",
      "metadata": {
        "id": "kZUbc2EcOQB3",
        "colab": {
          "base_uri": "https://localhost:8080/"
        },
        "outputId": "72b6e3fa-1987-4313-e4c8-3bde7e029d25"
      },
      "source": [
        "model_saved = ConvNet(num_class).to(device)\n",
        "model_saved.load_state_dict(torch.load(\"20161482_model1.pth\"))\n",
        "model_saved.eval()\n",
        "\n",
        "with torch.no_grad():\n",
        "  correct = 0\n",
        "  \n",
        "  for image, lab in test_loader:\n",
        "    image = image.to(device)\n",
        "    lab = lab.to(device)\n",
        "    out = model_saved(image)\n",
        "    _, pred = torch.max(out.data, 1)\n",
        "    correct += (pred == lab).sum().item()\n",
        "\n",
        "  print(\"Accuracy of the network on the {} test images: {}%\".format(len(test_loader)*batch_size, 100 * correct / (len(test_loader) * batch_size)))"
      ],
      "execution_count": null,
      "outputs": [
        {
          "output_type": "stream",
          "text": [
            "/usr/local/lib/python3.6/dist-packages/ipykernel_launcher.py:69: UserWarning: Implicit dimension choice for log_softmax has been deprecated. Change the call to include dim=X as an argument.\n"
          ],
          "name": "stderr"
        },
        {
          "output_type": "stream",
          "text": [
            "Accuracy of the network on the 116352 test images: 92.96789053905391%\n"
          ],
          "name": "stdout"
        }
      ]
    },
    {
      "cell_type": "code",
      "metadata": {
        "id": "tZ4FjcwJFfnq"
      },
      "source": [
        ""
      ],
      "execution_count": null,
      "outputs": []
    }
  ]
}