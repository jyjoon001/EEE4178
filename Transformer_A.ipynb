{
  "nbformat": 4,
  "nbformat_minor": 0,
  "metadata": {
    "colab": {
      "name": "Transformer_A.ipynb",
      "provenance": [],
      "collapsed_sections": [],
      "authorship_tag": "ABX9TyPYRJuzS/g0MubZ/5f6UPHh",
      "include_colab_link": true
    },
    "kernelspec": {
      "name": "python3",
      "display_name": "Python 3"
    },
    "language_info": {
      "name": "python"
    },
    "accelerator": "TPU"
  },
  "cells": [
    {
      "cell_type": "markdown",
      "metadata": {
        "id": "view-in-github",
        "colab_type": "text"
      },
      "source": [
        "<a href=\"https://colab.research.google.com/github/jyjoon001/EEE4178/blob/main/Transformer_A.ipynb\" target=\"_parent\"><img src=\"https://colab.research.google.com/assets/colab-badge.svg\" alt=\"Open In Colab\"/></a>"
      ]
    },
    {
      "cell_type": "code",
      "metadata": {
        "colab": {
          "base_uri": "https://localhost:8080/"
        },
        "id": "efgNFQqkIick",
        "outputId": "6c93886c-c017-460e-87e0-6eca26ebebdf"
      },
      "source": [
        "from google.colab import drive\n",
        "drive.mount('/content/drive')\n",
        "%cd /content/drive/MyDrive/"
      ],
      "execution_count": null,
      "outputs": [
        {
          "output_type": "stream",
          "text": [
            "Mounted at /content/drive\n",
            "/content/drive/MyDrive\n"
          ],
          "name": "stdout"
        }
      ]
    },
    {
      "cell_type": "code",
      "metadata": {
        "colab": {
          "base_uri": "https://localhost:8080/"
        },
        "id": "or2eH4JvIQSs",
        "outputId": "6013629c-7d69-443a-9197-15f98345246d"
      },
      "source": [
        "!pip install sentencepiece"
      ],
      "execution_count": null,
      "outputs": [
        {
          "output_type": "stream",
          "text": [
            "Collecting sentencepiece\n",
            "\u001b[?25l  Downloading https://files.pythonhosted.org/packages/f5/99/e0808cb947ba10f575839c43e8fafc9cc44e4a7a2c8f79c60db48220a577/sentencepiece-0.1.95-cp37-cp37m-manylinux2014_x86_64.whl (1.2MB)\n",
            "\u001b[K     |████████████████████████████████| 1.2MB 6.3MB/s \n",
            "\u001b[?25hInstalling collected packages: sentencepiece\n",
            "Successfully installed sentencepiece-0.1.95\n"
          ],
          "name": "stdout"
        }
      ]
    },
    {
      "cell_type": "code",
      "metadata": {
        "id": "AyIKbvnnIs4v"
      },
      "source": [
        "import os\n",
        "import gzip\n",
        "import pandas as pd\n",
        "import sentencepiece as spm\n",
        "import shutil"
      ],
      "execution_count": null,
      "outputs": []
    },
    {
      "cell_type": "code",
      "metadata": {
        "colab": {
          "base_uri": "https://localhost:8080/"
        },
        "id": "IQjn2jpAJWHj",
        "outputId": "3780bcab-0151-4033-dd03-3cbd437adde7"
      },
      "source": [
        "data_dir = 'transformer-evolution'\n",
        "for f in os.listdir(data_dir):\n",
        "  print(f)"
      ],
      "execution_count": null,
      "outputs": [
        {
          "output_type": "stream",
          "text": [
            "kowiki_t5.model\n",
            "kowiki.model\n",
            "kowiki_t5.vocab\n",
            "kowiki.vocab\n",
            "kowiki.csv.gz\n",
            "kowiki.txt\n",
            "kowiki_gpt.json\n",
            "ratings_test_t5.json\n",
            "ratings_test.txt\n",
            "ratings_test.json\n",
            "kowiki_t5_0.json\n",
            "save_bert_pretrain.pth\n",
            "ratings_train_t5.json\n",
            "ratings_train.txt\n",
            "ratings_train.json\n",
            "save_t5_pretrain.pth\n",
            "save_gpt_pretrain.pth\n"
          ],
          "name": "stdout"
        }
      ]
    },
    {
      "cell_type": "code",
      "metadata": {
        "colab": {
          "base_uri": "https://localhost:8080/",
          "height": 35
        },
        "id": "vhlHijgbJXOK",
        "outputId": "649c9c39-9980-434b-f6ed-2c20986443a5"
      },
      "source": [
        "in_file = f\"{data_dir}/kowiki.csv.gz\"\n",
        "out_file = f\"{data_dir}/kowiki.txt\"\n",
        "SEPARATOR = u\"\\u241D\"\n",
        "\n",
        "if not os.path.isfile(out_file):\n",
        "    df = pd.read_csv(in_file, sep=SEPARATOR, engine=\"python\", compression='gzip')\n",
        "    with open(out_file, \"w\") as f:\n",
        "      for index, row in df.iterrows():\n",
        "        f.write(row[\"text\"]) # title 과 text를 중복 되므로 text만 저장 함\n",
        "        f.write(\"\\n\\n\\n\\n\") # 구분자\n",
        "\n",
        "shutil.copy(out_file, \"kowiki.txt\")"
      ],
      "execution_count": null,
      "outputs": [
        {
          "output_type": "execute_result",
          "data": {
            "application/vnd.google.colaboratory.intrinsic+json": {
              "type": "string"
            },
            "text/plain": [
              "'kowiki.txt'"
            ]
          },
          "metadata": {
            "tags": []
          },
          "execution_count": 7
        }
      ]
    },
    {
      "cell_type": "code",
      "metadata": {
        "colab": {
          "base_uri": "https://localhost:8080/"
        },
        "id": "SYfbk_9mMvMY",
        "outputId": "9210b049-554c-46c9-cbbb-f2826a37404b"
      },
      "source": [
        "corpus = \"kowiki.txt\"\n",
        "prefix = \"kowiki\"\n",
        "vocab_size = 8000\n",
        "spm.SentencePieceTrainer.train(\n",
        "    f\"--input={corpus} --model_prefix={prefix} --vocab_size={vocab_size + 7}\" + \n",
        "    \" --model_type=bpe\" +\n",
        "    \" --max_sentence_length=999999\" + # 문장 최대 길이\n",
        "    \" --pad_id=0 --pad_piece=[PAD]\" + # pad (0)\n",
        "    \" --unk_id=1 --unk_piece=[UNK]\" + # unknown (1)\n",
        "    \" --bos_id=2 --bos_piece=[BOS]\" + # begin of sequence (2)\n",
        "    \" --eos_id=3 --eos_piece=[EOS]\" + # end of sequence (3)\n",
        "    \" --user_defined_symbols=[SEP],[CLS],[MASK]\") # 기타 추가 토큰\n",
        "\n",
        "for f in os.listdir(\".\"):\n",
        "  print(f)\n",
        "shutil.copy(\"kowiki.model\", f\"{data_dir}/kowiki.model\")\n",
        "shutil.copy(\"kowiki.vocab\", f\"{data_dir}/kowiki.vocab\")"
      ],
      "execution_count": null,
      "outputs": [
        {
          "output_type": "stream",
          "text": [
            "Game Developing: Application.gsheet\n",
            "2014 animeevaluation.gsheet\n",
            "Anischool_New.gsheet\n",
            "경기학교.gmap\n",
            "설문지-제목없음 (1).gform\n",
            "AnimeSchool_GradeBook.gsheet\n",
            "20160519_215340.mp4\n",
            "KOREA jaso.gdoc\n",
            "Laundering of History - Kancolle and post-politicization.gdoc\n",
            "제 2회 공과대 체육대회(선수명단).xlsx.gsheet\n",
            "2016NonBiSa.gdoc\n",
            "SGCC2016 여름MT.gsheet\n",
            "SGCC 전시회 아이작팀\n",
            "설문지-제목없음.gform\n",
            "2017VN\n",
            "hello games.gform\n",
            "JP TRIP Money.gsheet\n",
            "제목 없는 문서.gdoc\n",
            "만창퀴즈.gdoc\n",
            "만창활동회원 2017.gsheet\n",
            "Imogen의 사본 (1).gslides\n",
            "Imogen의 사본.gslides\n",
            "과학자 게임 - 등장 캐릭터.gsheet\n",
            "몬스터 오버플로_3.01.apk\n",
            "벽부수기_3.61.apk\n",
            "2017 만창 스토리공모전 당선작 - <나는 도망한다.>.gdoc\n",
            "2018년도 사회복무요원 재학생입영원 접수 안내문_0.hwp.gdoc\n",
            "제목없는 문서.gdoc\n",
            "제목없는 스프레드시트.gsheet\n",
            "스토리.hwp.gdoc\n",
            "20180819 New Novel.gdoc\n",
            "Mirror_Dlc_Win.rar\n",
            "국외여행계획서.doc1.gdoc\n",
            "팬데믹 최종 마크.docx\n",
            "종말에 뭐하세요 바쁘세요 구해주실 수 있나요\n",
            "JP TRIP.gmap\n",
            "2018 비주얼노벨 인디 가상 세카이계.docx\n",
            "2018 비주얼노벨 인디 가상 세카이계.gdoc\n",
            "전역여행.gsheet\n",
            "Characteristic (1).pptx\n",
            "Characteristic.pptx\n",
            "현대서양의형성 1차과제.gdoc\n",
            "비평회 주제 - <매력적인 캐릭터를 통한 서브컬쳐 스토리텔링>.gdoc\n",
            "현대 서양의 형성 2차과제.docx\n",
            "현대서양의형성.docx\n",
            "검은 비 CHAPTER 1.hwp\n",
            "부대컴퓨터\n",
            "2019 상영회 스크립트.gsheet\n",
            "2019 상영회 (기).gdoc\n",
            "2019-2 전자공학 4학기\n",
            "할 일 목록.gsheet\n",
            "2019 상영회 (전).gdoc\n",
            "일본어독해\n",
            "아카이브.zip\n",
            "제목 없는 스프레드시트 (1).gsheet\n",
            "2019 상영회 스크립트 (전).gsheet\n",
            "Colab Notebooks\n",
            "new colab 20200112\n",
            "Tower-Defense-Tutorial-master (2).zip\n",
            "きららファンタジア\n",
            "2020-1 전자공학 5학기\n",
            "20200421_153557.jpg\n",
            "20200421_153138.jpg\n",
            "20200421_153641 (1).jpg\n",
            "20200421_153611.jpg\n",
            "20200421_153743 (1).jpg\n",
            "20200421_153708 (1).jpg\n",
            "20200421_153837.jpg\n",
            "20200421_153829.jpg\n",
            "20200421_153848.jpg\n",
            "20200421_153913.jpg\n",
            "20200421_153942.jpg\n",
            "20200421_153641.jpg\n",
            "20200421_153743.jpg\n",
            "20200421_153708.jpg\n",
            "20200506_010446.jpg\n",
            "20200506_010502.jpg\n",
            "20200506_010523.jpg\n",
            "20200506_010542.jpg\n",
            "20200506_010558.jpg\n",
            "20200506_010609.jpg\n",
            "20200506_010614.jpg\n",
            "20200506_010636.jpg\n",
            "20200506_010648.jpg\n",
            "20200506_010657.jpg\n",
            "CNN History.pdf\n",
            "CNN History.gslides\n",
            "Theory of Storytelling.gslides\n",
            "집단에 따른 이공계적 지식에 대한 설문 - 서강.gform\n",
            "집단에 따른 이공계적 지식에 대한 설문 - 페이스북 그룹.gform\n",
            "20200520_010059.jpg\n",
            "20200520_010111.jpg\n",
            "20200520_010144.jpg\n",
            "20200520_010121.jpg\n",
            "20200520_010154.jpg\n",
            "20200520_011316.jpg\n",
            "20200520_011305.jpg\n",
            "20200520_011252.jpg\n",
            "20200520_011325.jpg\n",
            "20200520_011339.jpg\n",
            "20200520_011333.jpg\n",
            "20200520_011351.jpg\n",
            "20200520_011358.jpg\n",
            "20200520_011407.jpg\n",
            "20200520_011418.jpg\n",
            "20200520_011439.jpg\n",
            "20200520_011450.jpg\n",
            "20200520_155117.jpg\n",
            "adoc.site_fundamentals-of-applied-probability-and-random-processes-oliver-c-ibe-solution (1).pdf\n",
            "project.mp4\n",
            "sogangVN.docx\n",
            "1주차 ‘철학적 인간학’.gdoc\n",
            "2020-2 전자공학 6학기\n",
            "2020-2학기 SSIA 자기소개서_20161482_박준용.pdf\n",
            "2020-2학기 SSIA 개인정보 수집 및 이용 동의서_20161482_박준용.pdf\n",
            "집단에 따른 이공계적 지식에 대한 설문 - 페이스북 그룹(응답).gsheet\n",
            "집단에 따른 이공계적 지식에 대한 설문 - 서강(응답).gsheet\n",
            "uploads_files_53877_sopwith_camel_max2014.zip\n",
            "Albatross Jump\n",
            "HELLO GAMES.gsheet\n",
            "3전공 계획표.gsheet\n",
            "GRU_train_test.ipynb\n",
            "train.xlsx\n",
            "california.png\n",
            "AI_Project2.ipynb\n",
            "model.sav\n",
            "AI_Project.ipynb의 사본\n",
            "[2020고전실] 설계 프로젝트 20161482 박준용.mp4\n",
            "논리와 비판적 사고 2조 (수정).gdoc\n",
            "AMA(수정).gsheet\n",
            "Konosora_KR_Backlog.gsheet\n",
            "HW2_CIFAR10.ipynb\n",
            "gpt2-japanese-master\n",
            "칼럼대회 투표.gform\n",
            "인종설I\n",
            "aicomm\n",
            "제목 없는 스프레드시트.gsheet\n",
            "Transformer_A.ipynb\n",
            "제목 없는 스프레드시트 (2).gsheet\n",
            "transformer-evolution\n",
            "kowiki.txt\n",
            "kowiki.model\n",
            "kowiki.vocab\n"
          ],
          "name": "stdout"
        },
        {
          "output_type": "execute_result",
          "data": {
            "application/vnd.google.colaboratory.intrinsic+json": {
              "type": "string"
            },
            "text/plain": [
              "'transformer-evolution/kowiki.vocab'"
            ]
          },
          "metadata": {
            "tags": []
          },
          "execution_count": 8
        }
      ]
    },
    {
      "cell_type": "code",
      "metadata": {
        "colab": {
          "base_uri": "https://localhost:8080/"
        },
        "id": "aPIEcr4vMvaA",
        "outputId": "b1d96a6d-baf1-442c-b2c1-1beaf0f1998a"
      },
      "source": [
        "vocab_file = f\"{data_dir}/kowiki.model\"\n",
        "vocab = spm.SentencePieceProcessor()\n",
        "vocab.load(vocab_file)\n",
        "\n",
        "lines = [\n",
        "  \"겨울이 되어서 날씨가 무척 추워요.\",\n",
        "  \"이번 성탄절은 화이트 크리스마스가 될까요?\",\n",
        "  \"겨울에 감기 조심하시고 행복한 연말 되세요.\"\n",
        "]\n",
        "for line in lines:\n",
        "  pieces = vocab.encode_as_pieces(line)\n",
        "  ids = vocab.encode_as_ids(line)\n",
        "  print(line)\n",
        "  print(pieces)\n",
        "  print(ids)\n",
        "  print()"
      ],
      "execution_count": null,
      "outputs": [
        {
          "output_type": "stream",
          "text": [
            "겨울이 되어서 날씨가 무척 추워요.\n",
            "['▁겨울', '이', '▁되어', '서', '▁날', '씨', '가', '▁무', '척', '▁추', '워', '요', '.']\n",
            "[3091, 3588, 601, 3602, 683, 4014, 3599, 108, 4193, 206, 3958, 3760, 3590]\n",
            "\n",
            "이번 성탄절은 화이트 크리스마스가 될까요?\n",
            "['▁이번', '▁성', '탄', '절', '은', '▁화', '이트', '▁크리스', '마', '스가', '▁될', '까', '요', '?']\n",
            "[3224, 86, 3967, 3923, 3604, 264, 669, 1970, 3664, 780, 1450, 3794, 3760, 4245]\n",
            "\n",
            "겨울에 감기 조심하시고 행복한 연말 되세요.\n",
            "['▁겨울', '에', '▁감', '기', '▁조', '심', '하', '시', '고', '▁행', '복', '한', '▁연', '말', '▁되', '세', '요', '.']\n",
            "[3091, 3591, 212, 3605, 53, 3832, 3596, 3613, 3600, 234, 3871, 3603, 61, 3823, 445, 3682, 3760, 3590]\n",
            "\n"
          ],
          "name": "stdout"
        }
      ]
    },
    {
      "cell_type": "code",
      "metadata": {
        "id": "FHBWhbD_N9ta"
      },
      "source": [
        ""
      ],
      "execution_count": null,
      "outputs": []
    }
  ]
}